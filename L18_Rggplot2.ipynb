{
 "cells": [
  {
   "cell_type": "raw",
   "id": "0b00a1e3",
   "metadata": {},
   "source": [
    "---\n",
    "title: An R Markdown document converted from \"L18_Rggplot2.ipynb\"\n",
    "output: html_document\n",
    "---"
   ]
  },
  {
   "cell_type": "markdown",
   "id": "7b83c6ff",
   "metadata": {},
   "source": [
    "Github repository is here: <https://github.com/ong8181/DASC3240>\n",
    "\n",
    "# Reproducing the previous plots with ggplot2\n",
    "\n",
    "## References\n",
    "\n",
    "-   Data Analysis and Visualization in R for Ecologists: <https://datacarpentry.org/R-ecology-lesson>\n",
    "-   Data manipulation: <https://datacarpentry.org/R-ecology-lesson/03-dplyr.html>\n",
    "-   Data visualization with ggplot2: <https://datacarpentry.org/R-ecology-lesson/04-visualization-ggplot2.html>\n",
    "-   Zenodo archive: <http://doi.org/10.5281/zenodo.3264888>\n",
    "-   License (CC-BY4.0): <https://github.com/datacarpentry/R-ecology-lesson?tab=License-1-ov-file>\n",
    "-   Magwene, P. M. \"Introduction to ggplot2\", Biology 304: Biological Data Analysis. (Accessed 25 Jan 2024). <https://bio304-class.github.io/bio304-book/introduction-to-ggplot2.html> (reused with permission from Prof. Magwene)\n",
    "\n",
    "# Contents\n",
    "\n",
    "1.  Plotting one variable: Histogram and density plot\n",
    "2.  Plotting two variables: Barplot, boxplot, jitterplot, and violinplot\n",
    "3.  Plotting two variables: Scatterplot\n",
    "4.  Plotting two variables: Time series\n",
    "5.  Visualization of high dimensional data\n",
    "6.  Map\n",
    "7.  Useful tips\n",
    "\n",
    "# 1. Plotting one variable: Histrogram and density plot\n",
    "\n",
    "In this hands-on, we will use `iris` dataset.\n",
    "\n",
    "Reference: <https://bio304-class.github.io/bio304-book/introduction-to-ggplot2.html>"
   ]
  },
  {
   "cell_type": "code",
   "execution_count": null,
   "id": "34fb3fb3",
   "metadata": {},
   "outputs": [],
   "source": [
    "# Load library\n",
    "library(tidyverse); packageVersion(\"tidyverse\")"
   ]
  },
  {
   "cell_type": "code",
   "execution_count": null,
   "id": "69c606d9",
   "metadata": {},
   "outputs": [],
   "source": [
    "# Load iris\n",
    "data(iris)"
   ]
  },
  {
   "cell_type": "code",
   "execution_count": null,
   "id": "c1cb78ca",
   "metadata": {},
   "outputs": [],
   "source": [
    "# Histogram\n",
    "ggplot(iris) + \n",
    "  geom_histogram(aes(x = Sepal.Width))\n",
    "#> `stat_bin()` using `bins = 30`. Pick better value with `binwidth`."
   ]
  },
  {
   "cell_type": "code",
   "execution_count": null,
   "id": "1a88d203",
   "metadata": {},
   "outputs": [],
   "source": [
    "ggplot(iris) + \n",
    "  geom_density(aes(x = Sepal.Width, fill = Species), alpha=0.25)"
   ]
  },
  {
   "cell_type": "markdown",
   "id": "b624e762",
   "metadata": {},
   "source": [
    "# 2. Plotting two variables: Barplot, boxplot, jitterplot, and violinplot\n",
    "\n",
    "## Barplot"
   ]
  },
  {
   "cell_type": "code",
   "execution_count": null,
   "id": "7b2d8a23",
   "metadata": {},
   "outputs": [],
   "source": [
    "ggplot(iris, aes(x = Species)) + \n",
    "  geom_bar()"
   ]
  },
  {
   "cell_type": "code",
   "execution_count": null,
   "id": "c3e613bf",
   "metadata": {},
   "outputs": [],
   "source": [
    "iris %>%\n",
    "   group_by(Species) %>%\n",
    "   summarize(mean_Sepal.Width = mean(Sepal.Width)) %>%\n",
    "   ggplot(aes(x = Species, y = mean_Sepal.Width)) + geom_bar(stat = \"identity\")"
   ]
  },
  {
   "cell_type": "markdown",
   "id": "df3f737d",
   "metadata": {},
   "source": [
    "### Stacked barplot (community composition)"
   ]
  },
  {
   "cell_type": "code",
   "execution_count": null,
   "id": "a34b1e0d",
   "metadata": {},
   "outputs": [],
   "source": [
    "# Create artificial data\n",
    "d_com <- data.frame(Plot1 = c(10, 5, 5, 0),\n",
    "                    Plot2 = c(8, 7, 5, 4),\n",
    "                    Plot3 = c(5, 5, 5, 15),\n",
    "                    Plot4 = c(0, 5, 8, 17))\n",
    "rownames(d_com) = c(\"A\", \"B\", \"C\", \"D\")\n",
    "\n",
    "# Calculate the relative abundance\n",
    "d_com <- apply(d_com, 2, function(x) x/sum(x))\n",
    "d_com <- data.frame(d_com)\n",
    "\n",
    "# Convert the rownames to column\n",
    "d_com <- d_com %>% rownames_to_column(var = \"species\")\n",
    "\n",
    "# Convert the data.frame to a longer format\n",
    "d_com_long <- d_com %>% pivot_longer(cols = -species, names_to = \"plot\", values_to = \"relative_abundance\")\n",
    "\n",
    "# Visualize using stacked barplots\n",
    "d_com_long %>%\n",
    "  ggplot(aes(x = plot, y = relative_abundance, fill = species)) +\n",
    "  geom_bar(stat = \"identity\") +\n",
    "  xlab(\"Plot\") + ylab(\"Relative abundance\")"
   ]
  },
  {
   "cell_type": "markdown",
   "id": "824c04b3",
   "metadata": {},
   "source": [
    "## Boxplot"
   ]
  },
  {
   "cell_type": "code",
   "execution_count": null,
   "id": "723e135b",
   "metadata": {},
   "outputs": [],
   "source": [
    "ggplot(iris, aes(x = Species, y = Sepal.Width, color = Species)) +\n",
    "   geom_boxplot()"
   ]
  },
  {
   "cell_type": "markdown",
   "id": "de267f9a",
   "metadata": {},
   "source": [
    "## Violinplot"
   ]
  },
  {
   "cell_type": "code",
   "execution_count": null,
   "id": "ee165b4c",
   "metadata": {},
   "outputs": [],
   "source": [
    "ggplot(iris) + \n",
    "  geom_violin(aes(x = Species, y = Sepal.Width, color = Species, fill=Species), \n",
    "              alpha = 0.25)"
   ]
  },
  {
   "cell_type": "markdown",
   "id": "46f187d2",
   "metadata": {},
   "source": [
    "## Jitterplot"
   ]
  },
  {
   "cell_type": "code",
   "execution_count": null,
   "id": "0a9bda80",
   "metadata": {},
   "outputs": [],
   "source": [
    "ggplot(iris, aes(x = Species, y = Sepal.Width, color = Species)) +\n",
    "   geom_jitter(height = 0, width = 0.2)"
   ]
  },
  {
   "cell_type": "markdown",
   "id": "65f5e463",
   "metadata": {},
   "source": [
    "## Jitterplot + boxplot"
   ]
  },
  {
   "cell_type": "code",
   "execution_count": null,
   "id": "f32bac45",
   "metadata": {},
   "outputs": [],
   "source": [
    "ggplot(iris, aes(x = Species, y = Sepal.Width, color = Species)) +\n",
    "   geom_boxplot(outlier.shape = NA) +\n",
    "   geom_jitter(height = 0, width = 0.2, size = 2, alpha = 0.8)"
   ]
  },
  {
   "cell_type": "markdown",
   "id": "28da227d",
   "metadata": {},
   "source": [
    "# 3. Plotting two variables: Scatterplot"
   ]
  },
  {
   "cell_type": "code",
   "execution_count": null,
   "id": "59ad21ef",
   "metadata": {},
   "outputs": [],
   "source": [
    "# Standard scatterplot\n",
    "ggplot(iris, aes(x = Sepal.Length, y = Sepal.Width, color = Species)) +\n",
    "   geom_point()"
   ]
  },
  {
   "cell_type": "code",
   "execution_count": null,
   "id": "1f766ebf",
   "metadata": {},
   "outputs": [],
   "source": [
    "# Scatterplot with LOWESS fitting curve\n",
    "ggplot(iris, aes(x = Sepal.Length, y = Sepal.Width, color = Species)) +\n",
    "   geom_point() +\n",
    "   stat_smooth()"
   ]
  },
  {
   "cell_type": "code",
   "execution_count": null,
   "id": "4e25a476",
   "metadata": {},
   "outputs": [],
   "source": [
    "# Scatterplot with linear regression\n",
    "ggplot(iris, aes(x = Sepal.Length, y = Sepal.Width, color = Species)) +\n",
    "   geom_point() +\n",
    "   stat_smooth(method = \"lm\")"
   ]
  },
  {
   "cell_type": "code",
   "execution_count": null,
   "id": "b2959a6e",
   "metadata": {},
   "outputs": [],
   "source": [
    "# Change colors\n",
    "ggplot(iris, aes(x = Sepal.Length, y = Sepal.Width, color = Species)) +\n",
    "   geom_point() +\n",
    "   stat_smooth() +\n",
    "   scale_color_manual(values = c(\"gray30\", \"red3\", \"royalblue\"))"
   ]
  },
  {
   "cell_type": "code",
   "execution_count": null,
   "id": "c8568da2",
   "metadata": {},
   "outputs": [],
   "source": [
    "# Use facet to show the data in separate panels\n",
    "ggplot(iris, aes(x = Sepal.Length, y = Sepal.Width, color = Species)) +\n",
    "   geom_point() +\n",
    "   stat_smooth() +\n",
    "   facet_wrap(~ Species)"
   ]
  },
  {
   "cell_type": "markdown",
   "id": "bd8b3f3f",
   "metadata": {},
   "source": [
    "# 4. Plotting two variables: Time series\n",
    "\n",
    "As in the Python examples, we need to care about \"date\" variables. **lubridate** package is a great one to handle date variables."
   ]
  },
  {
   "cell_type": "code",
   "execution_count": null,
   "id": "90da0c64",
   "metadata": {},
   "outputs": [],
   "source": [
    "# Load library\n",
    "library(tidyverse)\n",
    "library(lubridate) # If not included in the tidyverse package"
   ]
  },
  {
   "cell_type": "code",
   "execution_count": null,
   "id": "f51bbb92",
   "metadata": {},
   "outputs": [],
   "source": [
    "# Load dataset from web\n",
    "## see https://r-graph-gallery.com/line_chart_annotation.html\n",
    "d <- read.table(\"https://raw.githubusercontent.com/holtzy/data_to_viz/master/Example_dataset/3_TwoNumOrdered.csv\", header = T)\n",
    "d$date <- ymd(d$date)"
   ]
  },
  {
   "cell_type": "code",
   "execution_count": null,
   "id": "f5598540",
   "metadata": {},
   "outputs": [],
   "source": [
    "# Generate time series plot using geom_line\n",
    "d %>% \n",
    "  ggplot(aes(x = date, y = value)) +\n",
    "    geom_line()"
   ]
  },
  {
   "cell_type": "code",
   "execution_count": null,
   "id": "1ddefddc",
   "metadata": {},
   "outputs": [],
   "source": [
    "# Transform y-axis to log-scale\n",
    "d %>% \n",
    "  ggplot(aes(x = date, y = value)) +\n",
    "    geom_line() +\n",
    "    scale_y_log10()"
   ]
  },
  {
   "cell_type": "markdown",
   "id": "8caa904e",
   "metadata": {},
   "source": [
    "# 5. Visualization of high dimensional data\n",
    "\n",
    "Try dimension reduction methods using R. We will use the same data with what we used in the Python session."
   ]
  },
  {
   "cell_type": "code",
   "execution_count": null,
   "id": "fb73e64f",
   "metadata": {},
   "outputs": [],
   "source": [
    "d <- read.csv(\"data/eDNA_copy_site_top.csv\", row.names = 1)\n",
    "head(d)"
   ]
  },
  {
   "cell_type": "code",
   "execution_count": null,
   "id": "fb0bc658",
   "metadata": {},
   "outputs": [],
   "source": [
    "# Remove meta-data\n",
    "d_abn <- d %>% select(-c(site_name, lat_n, long_e))\n",
    "head(d_abn)"
   ]
  },
  {
   "cell_type": "markdown",
   "id": "080183ce",
   "metadata": {},
   "source": [
    "### Principal Component Analysis (PCA)"
   ]
  },
  {
   "cell_type": "code",
   "execution_count": null,
   "id": "67b1abf1",
   "metadata": {},
   "outputs": [],
   "source": [
    "# Calculate eDNA community composition instead of performing standardization\n",
    "d_comp <- t(apply(d_abn, 1, function(x) x/sum(x)))\n",
    "\n",
    "# PCA using prcomp()\n",
    "pca_res <- prcomp(d_comp)\n",
    "str(pca_res)"
   ]
  },
  {
   "cell_type": "code",
   "execution_count": null,
   "id": "af102e8e",
   "metadata": {},
   "outputs": [],
   "source": [
    "pca_res$x"
   ]
  },
  {
   "cell_type": "code",
   "execution_count": null,
   "id": "cf8528d7",
   "metadata": {},
   "outputs": [],
   "source": [
    "# Plot the results using ggplots\n",
    "pca_res$x %>% as.data.frame %>% # data should be data.frame or tibble\n",
    "   ggplot(aes(x = PC1, y = PC2)) +\n",
    "      geom_point(aes(color = d$site_name))"
   ]
  },
  {
   "cell_type": "markdown",
   "id": "fac545e5",
   "metadata": {},
   "source": [
    "### Principal Coordinate Analysis (or MDS)\n",
    "\n",
    "In R, PCoA can be performed using `vegan::cmdscale()`."
   ]
  },
  {
   "cell_type": "code",
   "execution_count": null,
   "id": "52d4cd01",
   "metadata": {},
   "outputs": [],
   "source": [
    "# Load library\n",
    "library(vegan) # For community ecology analysis including NMDS\n",
    "\n",
    "# Calculate distance matrix (or dissimilarity)\n",
    "d_dist <- vegdist(d_comp, method = \"bray\")\n",
    "\n",
    "# Do PCoA\n",
    "pcoa_res <- cmdscale(d_dist, eig = TRUE)"
   ]
  },
  {
   "cell_type": "code",
   "execution_count": null,
   "id": "a2062002",
   "metadata": {},
   "outputs": [],
   "source": [
    "# Visualize the result using ggplots\n",
    "pcoa_res$points %>% as.data.frame %>%\n",
    "   ggplot(aes(x = V1, y = V2)) +\n",
    "      geom_point(aes(color = d$site_name)) +\n",
    "      xlab(\"PCoA axis 1\") + ylab(\"PCoA axis 2\")"
   ]
  },
  {
   "cell_type": "markdown",
   "id": "11e18d1c",
   "metadata": {},
   "source": [
    "### Nonmetric Dimensional Scaling (NMDS)"
   ]
  },
  {
   "cell_type": "code",
   "execution_count": null,
   "id": "2676f0c2",
   "metadata": {},
   "outputs": [],
   "source": [
    "# Load library\n",
    "library(vegan)\n",
    "\n",
    "# Set random seed\n",
    "set.seed(1234) # Better to set a random seed as NMDS includes some random processes\n",
    "\n",
    "# Do NMDS\n",
    "nmds_res <- metaMDS(d_comp, # data\n",
    "                     distance = \"bray\", # Use Bray-Curtis dissimilarity\n",
    "                     k = 2) # The number of reduced dimensions"
   ]
  },
  {
   "cell_type": "code",
   "execution_count": null,
   "id": "3a9a082d",
   "metadata": {},
   "outputs": [],
   "source": [
    "# Visualize the result using ggplots\n",
    "nmds_res$points %>% as.data.frame %>%\n",
    "   ggplot(aes(x = MDS1, y = MDS2)) +\n",
    "      geom_point(aes(color = d$site_name)) +\n",
    "      xlab(\"Axis 1\") + ylab(\"Axis 2\")"
   ]
  },
  {
   "cell_type": "markdown",
   "id": "3098d8e1",
   "metadata": {},
   "source": [
    "### t-SNE\n",
    "\n",
    "We will install [**Rtsne**](https://github.com/jkrijthe/Rtsne) package to perform t-SNE."
   ]
  },
  {
   "cell_type": "code",
   "execution_count": null,
   "id": "dfd7aceb",
   "metadata": {},
   "outputs": [],
   "source": [
    "# Installation\n",
    "#install.packages(\"Rtsne\")\n",
    "\n",
    "# Load library\n",
    "library(Rtsne)"
   ]
  },
  {
   "cell_type": "code",
   "execution_count": null,
   "id": "8a1b20f3",
   "metadata": {},
   "outputs": [],
   "source": [
    "# Sets seed for reproducibility\n",
    "set.seed(1234)\n",
    "\n",
    "# Run t-SNE\n",
    "tsne_out <- Rtsne(as.matrix(d_abn), dims = 2, perplexity = 30)\n",
    "# dims = Output dimension\n",
    "# perplexity = An index of how many neighbors (how far/near) we will consider (small value means it considers a local structure only)\n",
    "str(tsne_out)"
   ]
  },
  {
   "cell_type": "code",
   "execution_count": null,
   "id": "03f14e4a",
   "metadata": {},
   "outputs": [],
   "source": [
    "tsne_out$Y %>% as.data.frame %>%\n",
    "   ggplot(aes(x = V1, y = V2)) +\n",
    "      geom_point(aes(color = d$site_name)) +\n",
    "      xlab(\"Axis 1\") + ylab(\"Axis 2\")"
   ]
  },
  {
   "cell_type": "markdown",
   "id": "4de3a14d",
   "metadata": {},
   "source": [
    "# 6. Map\n",
    "\n",
    "Draw maps using [`ggmap` package](https://github.com/dkahle/ggmap). We will use [Stadia Maps](https://stadiamaps.com/) data."
   ]
  },
  {
   "cell_type": "code",
   "execution_count": null,
   "id": "a6eda3b3",
   "metadata": {},
   "outputs": [],
   "source": [
    "# Load library\n",
    "#devtools::install_github(\"dkahle/ggmap\", ref = \"tidyup\")\n",
    "library(ggmap); packageVersion(\"ggmap\") # 4.0.0"
   ]
  },
  {
   "cell_type": "code",
   "execution_count": null,
   "id": "f80b5e01",
   "metadata": {},
   "outputs": [],
   "source": [
    "# Register Stadia Maps API key\n",
    "## You should sign up Stadia Maps and get your own API\n",
    "## API key is a key that is required for apps to communicate each other (R and Stadia Maps, in this case)\n",
    "ggmap::register_stadiamaps(\"xxxxxxxxxxxxxxxxxxxxx\")\n",
    "\n",
    "# Map type names\n",
    "map_types <- c(\"stamen_terrain\", \"stamen_toner\", \"stamen_toner_lite\",\n",
    "               \"stamen_watercolor\", \"alidade_smooth\", \"alidade_smooth_dark\",\n",
    "               \"outdoors\", \"stamen_terrain_background\", \"stamen_toner_background\",\n",
    "               \"stamen_terrain_labels\", \"stamen_terrain_lines\",\n",
    "               \"stamen_toner_labels\", \"stamen_toner_lines\")\n",
    "\n",
    "# Draw Hong Kong Map\n",
    "hk_lonlat <- c(left = 113.8, right = 114.5, top = 22.6, bottom = 22.1)\n",
    "hk_detail <- get_stadiamap(hk_lonlat, zoom = 10, maptype = map_types[1])"
   ]
  },
  {
   "cell_type": "code",
   "execution_count": null,
   "id": "e0395d19",
   "metadata": {},
   "outputs": [],
   "source": [
    "ggmap(hk_detail)"
   ]
  },
  {
   "cell_type": "markdown",
   "id": "5058bc68",
   "metadata": {
    "lines_to_next_cell": 0
   },
   "source": [
    "# 7. Useful tips\n",
    "\n",
    "## Axis label angle and position"
   ]
  },
  {
   "cell_type": "code",
   "execution_count": null,
   "id": "76e1d343",
   "metadata": {},
   "outputs": [],
   "source": [
    "g1 <- ggplot(iris, aes(x = Species, y = Sepal.Width, color = Species)) +\n",
    "   geom_boxplot(outlier.shape = NA) +\n",
    "   geom_jitter(height = 0, width = 0.2, size = 2, alpha = 0.8)\n",
    "\n",
    "g1 + theme(axis.text.x = element_text(angle = 90))"
   ]
  },
  {
   "cell_type": "code",
   "execution_count": null,
   "id": "e48258e2",
   "metadata": {
    "lines_to_next_cell": 0
   },
   "outputs": [],
   "source": [
    "g1 + theme(axis.text.x = element_text(angle = 90, vjust = 0))\n",
    "g1 + theme(axis.text.x = element_text(angle = 90, vjust = 0.5))\n",
    "g1 + theme(axis.text.x = element_text(angle = 90, vjust = 1))"
   ]
  },
  {
   "cell_type": "markdown",
   "id": "5b638e4c",
   "metadata": {
    "lines_to_next_cell": 0
   },
   "source": [
    "## Change colors manually"
   ]
  },
  {
   "cell_type": "code",
   "execution_count": null,
   "id": "9cd3cd61",
   "metadata": {
    "lines_to_next_cell": 0
   },
   "outputs": [],
   "source": [
    "g1 + scale_color_manual(values = c(\"black\", \"red\", \"blue\"))"
   ]
  },
  {
   "cell_type": "markdown",
   "id": "31791808",
   "metadata": {
    "lines_to_next_cell": 0
   },
   "source": [
    "## Change legend title"
   ]
  },
  {
   "cell_type": "code",
   "execution_count": null,
   "id": "95bbf767",
   "metadata": {
    "lines_to_next_cell": 0
   },
   "outputs": [],
   "source": [
    "g1 + scale_color_manual(name = \"New legend title\", values = c(\"black\", \"red\", \"blue\"))"
   ]
  },
  {
   "cell_type": "markdown",
   "id": "a0ffba1f",
   "metadata": {
    "lines_to_next_cell": 0
   },
   "source": [
    "## Use scientific notation for large values"
   ]
  },
  {
   "cell_type": "code",
   "execution_count": null,
   "id": "5eda9903",
   "metadata": {
    "lines_to_next_cell": 0
   },
   "outputs": [],
   "source": [
    "# Define a custom function\n",
    "# https://stackoverflow.com/questions/10762287/how-can-i-format-axis-labels-with-exponents-with-ggplot2-and-scales\n",
    "label_10_to_power <- function (x) {\n",
    "    ifelse(x == 0, \"0\", parse(text = gsub(\"[+]\", \"\", gsub(\"e\", \n",
    "        \" %*% 10^\", (scales::scientific_format())(x)))))\n",
    "  }\n",
    "\n",
    "# Load data again\n",
    "## see https://r-graph-gallery.com/line_chart_annotation.html\n",
    "d <- read.table(\"https://raw.githubusercontent.com/holtzy/data_to_viz/master/Example_dataset/3_TwoNumOrdered.csv\", header = T)\n",
    "d$date <- ymd(d$date)\n",
    "\n",
    "d %>% \n",
    "  ggplot(aes(x = date, y = value)) +\n",
    "    geom_line() + scale_y_continuous(label = label_10_to_power)"
   ]
  },
  {
   "cell_type": "markdown",
   "id": "c7a7a9f8",
   "metadata": {},
   "source": []
  }
 ],
 "metadata": {
  "jupytext": {
   "cell_metadata_filter": "-all",
   "main_language": "R",
   "notebook_metadata_filter": "-all"
  }
 },
 "nbformat": 4,
 "nbformat_minor": 5
}
